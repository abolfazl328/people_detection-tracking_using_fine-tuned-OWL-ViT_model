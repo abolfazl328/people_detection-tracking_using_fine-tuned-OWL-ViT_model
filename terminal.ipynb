{
 "nbformat": 4,
 "nbformat_minor": 0,
 "metadata": {
  "colab": {
   "provenance": []
  },
  "kernelspec": {
   "name": "python3",
   "display_name": "Python 3"
  },
  "language_info": {
   "name": "python"
  }
 },
 "cells": [
  {
   "cell_type": "code",
   "source": [
    "!pip install filterpy"
   ],
   "metadata": {
    "colab": {
     "base_uri": "https://localhost:8080/"
    },
    "id": "kJ8GCtGC2Q3Z",
    "executionInfo": {
     "status": "ok",
     "timestamp": 1759164003745,
     "user_tz": -210,
     "elapsed": 5223,
     "user": {
      "displayName": "abolfazl abolfazlch",
      "userId": "14985908433347130460"
     }
    },
    "outputId": "c32ce028-4162-49fb-aee4-04f556ecb30e"
   },
   "execution_count": null,
   "outputs": [
    {
     "output_type": "stream",
     "name": "stdout",
     "text": [
      "Requirement already satisfied: filterpy in /usr/local/lib/python3.12/dist-packages (1.4.5)\n",
      "Requirement already satisfied: numpy in /usr/local/lib/python3.12/dist-packages (from filterpy) (2.0.2)\n",
      "Requirement already satisfied: scipy in /usr/local/lib/python3.12/dist-packages (from filterpy) (1.16.2)\n",
      "Requirement already satisfied: matplotlib in /usr/local/lib/python3.12/dist-packages (from filterpy) (3.10.0)\n",
      "Requirement already satisfied: contourpy>=1.0.1 in /usr/local/lib/python3.12/dist-packages (from matplotlib->filterpy) (1.3.3)\n",
      "Requirement already satisfied: cycler>=0.10 in /usr/local/lib/python3.12/dist-packages (from matplotlib->filterpy) (0.12.1)\n",
      "Requirement already satisfied: fonttools>=4.22.0 in /usr/local/lib/python3.12/dist-packages (from matplotlib->filterpy) (4.60.0)\n",
      "Requirement already satisfied: kiwisolver>=1.3.1 in /usr/local/lib/python3.12/dist-packages (from matplotlib->filterpy) (1.4.9)\n",
      "Requirement already satisfied: packaging>=20.0 in /usr/local/lib/python3.12/dist-packages (from matplotlib->filterpy) (25.0)\n",
      "Requirement already satisfied: pillow>=8 in /usr/local/lib/python3.12/dist-packages (from matplotlib->filterpy) (11.3.0)\n",
      "Requirement already satisfied: pyparsing>=2.3.1 in /usr/local/lib/python3.12/dist-packages (from matplotlib->filterpy) (3.2.4)\n",
      "Requirement already satisfied: python-dateutil>=2.7 in /usr/local/lib/python3.12/dist-packages (from matplotlib->filterpy) (2.9.0.post0)\n",
      "Requirement already satisfied: six>=1.5 in /usr/local/lib/python3.12/dist-packages (from python-dateutil>=2.7->matplotlib->filterpy) (1.17.0)\n"
     ]
    }
   ]
  },
  {
   "cell_type": "code",
   "source": "!python vlm_final_inference.py",
   "metadata": {
    "id": "xE-A21qL0uxe",
    "colab": {
     "base_uri": "https://localhost:8080/"
    },
    "executionInfo": {
     "status": "ok",
     "timestamp": 1759153201676,
     "user_tz": -210,
     "elapsed": 267974,
     "user": {
      "displayName": "abolfazl choubdaran",
      "userId": "15330153986322559222"
     }
    },
    "outputId": "fc3ede22-6a64-4b5c-b31d-05442da2b356"
   },
   "execution_count": null,
   "outputs": [
    {
     "output_type": "stream",
     "name": "stdout",
     "text": [
      "2025-09-29 13:35:40.969560: E external/local_xla/xla/stream_executor/cuda/cuda_fft.cc:467] Unable to register cuFFT factory: Attempting to register factory for plugin cuFFT when one has already been registered\n",
      "WARNING: All log messages before absl::InitializeLog() is called are written to STDERR\n",
      "E0000 00:00:1759152940.991200   18976 cuda_dnn.cc:8579] Unable to register cuDNN factory: Attempting to register factory for plugin cuDNN when one has already been registered\n",
      "E0000 00:00:1759152940.997904   18976 cuda_blas.cc:1407] Unable to register cuBLAS factory: Attempting to register factory for plugin cuBLAS when one has already been registered\n",
      "W0000 00:00:1759152941.014669   18976 computation_placer.cc:177] computation placer already registered. Please check linkage and avoid linking the same target more than once.\n",
      "W0000 00:00:1759152941.014700   18976 computation_placer.cc:177] computation placer already registered. Please check linkage and avoid linking the same target more than once.\n",
      "W0000 00:00:1759152941.014705   18976 computation_placer.cc:177] computation placer already registered. Please check linkage and avoid linking the same target more than once.\n",
      "W0000 00:00:1759152941.014711   18976 computation_placer.cc:177] computation placer already registered. Please check linkage and avoid linking the same target more than once.\n",
      "2025-09-29 13:35:41.019660: I tensorflow/core/platform/cpu_feature_guard.cc:210] This TensorFlow binary is optimized to use available CPU instructions in performance-critical operations.\n",
      "To enable the following instructions: AVX2 AVX512F FMA, in other operations, rebuild TensorFlow with the appropriate compiler flags.\n",
      "Using device: cuda\n",
      "Loading OWL-ViT model...\n",
      "Using a slow image processor as `use_fast` is unset and a slow processor was saved with this model. `use_fast=True` will be the default behavior in v4.52, even if the model was saved with a slow processor. This will result in minor differences in outputs. You'll still be able to use a slow processor with `use_fast=False`.\n",
      "Fetching 1 files:   0% 0/1 [00:00<?, ?it/s]\n",
      "preprocessor_config.json: 100% 425/425 [00:00<00:00, 2.85MB/s]\n",
      "Fetching 1 files: 100% 1/1 [00:00<00:00,  7.32it/s]\n",
      "tokenizer_config.json: 1.10kB [00:00, 5.95MB/s]\n",
      "vocab.json: 1.06MB [00:00, 75.0MB/s]\n",
      "merges.txt: 525kB [00:00, 128MB/s]\n",
      "added_tokens.json: 100% 67.0/67.0 [00:00<00:00, 620kB/s]\n",
      "special_tokens_map.json: 100% 121/121 [00:00<00:00, 863kB/s]\n",
      "config.json: 100% 414/414 [00:00<00:00, 3.66MB/s]\n",
      "model.safetensors: 100% 620M/620M [00:09<00:00, 65.0MB/s]\n",
      "Model loaded.\n",
      "Model loaded and moved to GPU.\n",
      "Processing video with VLM:   0% 0/298 [00:00<?, ?it/s]/usr/local/lib/python3.12/dist-packages/transformers/models/owlv2/processing_owlv2.py:201: FutureWarning: `post_process_object_detection` method is deprecated for OwlVitProcessor and will be removed in v5. Use `post_process_grounded_object_detection` instead.\n",
      "  warnings.warn(\n",
      "Processing video with VLM: 100% 298/298 [03:58<00:00,  1.25it/s]\n",
      "Processing complete. Final video saved to: ./vlm_outputs/vlm_output_v2_0.3_0.05_10_15.mp4\n"
     ]
    }
   ]
  },
  {
   "cell_type": "code",
   "source": [
    "!python OWL-Vit_minimal_fine-tuning.py"
   ],
   "metadata": {
    "id": "oTVqNc_O2Ogg",
    "colab": {
     "base_uri": "https://localhost:8080/"
    },
    "executionInfo": {
     "status": "ok",
     "timestamp": 1759170956575,
     "user_tz": -210,
     "elapsed": 610738,
     "user": {
      "displayName": "abolfazl abolfazlch",
      "userId": "14985908433347130460"
     }
    },
    "outputId": "b1dad384-8ea0-4846-bcb2-a343edb12f4e"
   },
   "execution_count": 16,
   "outputs": [
    {
     "output_type": "stream",
     "name": "stdout",
     "text": [
      "2025-09-29 18:25:54.150874: E external/local_xla/xla/stream_executor/cuda/cuda_fft.cc:467] Unable to register cuFFT factory: Attempting to register factory for plugin cuFFT when one has already been registered\n",
      "WARNING: All log messages before absl::InitializeLog() is called are written to STDERR\n",
      "E0000 00:00:1759170354.173863   29577 cuda_dnn.cc:8579] Unable to register cuDNN factory: Attempting to register factory for plugin cuDNN when one has already been registered\n",
      "E0000 00:00:1759170354.180880   29577 cuda_blas.cc:1407] Unable to register cuBLAS factory: Attempting to register factory for plugin cuBLAS when one has already been registered\n",
      "W0000 00:00:1759170354.198630   29577 computation_placer.cc:177] computation placer already registered. Please check linkage and avoid linking the same target more than once.\n",
      "W0000 00:00:1759170354.198673   29577 computation_placer.cc:177] computation placer already registered. Please check linkage and avoid linking the same target more than once.\n",
      "W0000 00:00:1759170354.198678   29577 computation_placer.cc:177] computation placer already registered. Please check linkage and avoid linking the same target more than once.\n",
      "W0000 00:00:1759170354.198683   29577 computation_placer.cc:177] computation placer already registered. Please check linkage and avoid linking the same target more than once.\n",
      "2025-09-29 18:25:54.203988: I tensorflow/core/platform/cpu_feature_guard.cc:210] This TensorFlow binary is optimized to use available CPU instructions in performance-critical operations.\n",
      "To enable the following instructions: AVX2 FMA, in other operations, rebuild TensorFlow with the appropriate compiler flags.\n",
      "Fetching 1 files: 100% 1/1 [00:00<00:00, 14074.85it/s]\n",
      "Starting ANTI-OVERFITTING fine-tuning...\n",
      "Applied modifications:\n",
      "1. Multiple text variations across samples: ['a person', 'human', 'person walking', 'a human', 'person']\n",
      "2. L2 regularization (lambda=0.01)\n",
      "3. Reduced epochs: 15 (from 20)\n",
      "4. Lower learning rate: 5e-7 (from 1e-6)\n",
      "==================================================\n",
      "Trainable parameters: 91,347,975\n",
      "Total parameters: 152,789,511\n",
      "Training samples: 32\n",
      "==================================================\n",
      "The tokenizer has new PAD/BOS/EOS tokens that differ from the model config and generation config. The model config and generation config were aligned accordingly, being updated with the tokenizer's values. Updated tokens: {'eos_token_id': 49407, 'bos_token_id': 49406, 'pad_token_id': 0}.\n",
      "\u001B[34m\u001B[1mwandb\u001B[0m: (1) Create a W&B account\n",
      "\u001B[34m\u001B[1mwandb\u001B[0m: (2) Use an existing W&B account\n",
      "\u001B[34m\u001B[1mwandb\u001B[0m: (3) Don't visualize my results\n",
      "\u001B[34m\u001B[1mwandb\u001B[0m: Enter your choice: 3\n",
      "\u001B[34m\u001B[1mwandb\u001B[0m: You chose \"Don't visualize my results\"\n",
      "\u001B[34m\u001B[1mwandb\u001B[0m: Tracking run with wandb version 0.21.4\n",
      "\u001B[34m\u001B[1mwandb\u001B[0m: W&B syncing is set to \u001B[1m`offline`\u001B[0m in this directory. Run \u001B[1m`wandb online`\u001B[0m or set \u001B[1mWANDB_MODE=online\u001B[0m to enable cloud syncing.\n",
      "\u001B[34m\u001B[1mwandb\u001B[0m: Run data is saved locally in \u001B[35m\u001B[1m/content/drive/MyDrive/OWL-ViT/wandb/offline-run-20250929_182614-d4s0fwnk\u001B[0m\n",
      "{'loss': 36.6417, 'grad_norm': 52.38717269897461, 'learning_rate': 4.1666666666666667e-07, 'epoch': 2.5}\n",
      "{'loss': 36.4856, 'grad_norm': 46.0116081237793, 'learning_rate': 4.6650635094610966e-07, 'epoch': 5.0}\n",
      "{'loss': 36.3226, 'grad_norm': 44.03493118286133, 'learning_rate': 3.6219979505011555e-07, 'epoch': 7.5}\n",
      "{'loss': 36.2133, 'grad_norm': 41.34523391723633, 'learning_rate': 2.209767714686924e-07, 'epoch': 10.0}\n",
      "{'loss': 36.1545, 'grad_norm': 40.4633903503418, 'learning_rate': 8.930309757836516e-08, 'epoch': 12.5}\n",
      "{'loss': 36.1325, 'grad_norm': 40.83766174316406, 'learning_rate': 1.0502621921127774e-08, 'epoch': 15.0}\n",
      "{'train_runtime': 576.2709, 'train_samples_per_second': 0.833, 'train_steps_per_second': 0.104, 'train_loss': 36.32502950032552, 'epoch': 15.0}\n",
      "100% 60/60 [09:24<00:00,  9.41s/it]\n",
      "✅ Anti-overfitting fine-tuning complete! Model saved to ./owlvit_finetuned_person_v3\n",
      "\u001B[1;34mwandb\u001B[0m: \n",
      "\u001B[1;34mwandb\u001B[0m: You can sync this run to the cloud by running:\n",
      "\u001B[1;34mwandb\u001B[0m: \u001B[1mwandb sync /content/drive/MyDrive/OWL-ViT/wandb/offline-run-20250929_182614-d4s0fwnk\u001B[0m\n",
      "\u001B[1;34mwandb\u001B[0m: Find logs at: \u001B[1;35mwandb/offline-run-20250929_182614-d4s0fwnk/logs\u001B[0m\n"
     ]
    }
   ]
  },
  {
   "cell_type": "code",
   "source": [
    "!python vlm_finetuned_optimal_inferenced.py"
   ],
   "metadata": {
    "id": "jhfCUtxc2Ix9",
    "colab": {
     "base_uri": "https://localhost:8080/"
    },
    "executionInfo": {
     "status": "ok",
     "timestamp": 1759174417035,
     "user_tz": -210,
     "elapsed": 105338,
     "user": {
      "displayName": "abolfazl abolfazlch",
      "userId": "14985908433347130460"
     }
    },
    "outputId": "845350f0-562c-4d31-d2b6-d924910bcfc4"
   },
   "execution_count": 21,
   "outputs": [
    {
     "output_type": "stream",
     "name": "stdout",
     "text": [
      "2025-09-29 19:31:58.218385: E external/local_xla/xla/stream_executor/cuda/cuda_fft.cc:467] Unable to register cuFFT factory: Attempting to register factory for plugin cuFFT when one has already been registered\n",
      "WARNING: All log messages before absl::InitializeLog() is called are written to STDERR\n",
      "E0000 00:00:1759174318.242227   46358 cuda_dnn.cc:8579] Unable to register cuDNN factory: Attempting to register factory for plugin cuDNN when one has already been registered\n",
      "E0000 00:00:1759174318.249002   46358 cuda_blas.cc:1407] Unable to register cuBLAS factory: Attempting to register factory for plugin cuBLAS when one has already been registered\n",
      "W0000 00:00:1759174318.267816   46358 computation_placer.cc:177] computation placer already registered. Please check linkage and avoid linking the same target more than once.\n",
      "W0000 00:00:1759174318.267846   46358 computation_placer.cc:177] computation placer already registered. Please check linkage and avoid linking the same target more than once.\n",
      "W0000 00:00:1759174318.267853   46358 computation_placer.cc:177] computation placer already registered. Please check linkage and avoid linking the same target more than once.\n",
      "W0000 00:00:1759174318.267857   46358 computation_placer.cc:177] computation placer already registered. Please check linkage and avoid linking the same target more than once.\n",
      "2025-09-29 19:31:58.273718: I tensorflow/core/platform/cpu_feature_guard.cc:210] This TensorFlow binary is optimized to use available CPU instructions in performance-critical operations.\n",
      "To enable the following instructions: AVX2 FMA, in other operations, rebuild TensorFlow with the appropriate compiler flags.\n",
      "Using device: cuda\n",
      "Loading FINE-TUNED OWL-ViT model...\n",
      "Fine-tuned model loaded and optimized.\n",
      "Processing video (OPTIMIZED):   0% 0/298 [00:00<?, ?it/s]/usr/local/lib/python3.12/dist-packages/transformers/models/owlvit/processing_owlvit.py:221: FutureWarning: `post_process_object_detection` method is deprecated for OwlVitProcessor and will be removed in v5. Use `post_process_grounded_object_detection` instead.\n",
      "  warnings.warn(\n",
      "Processing video (OPTIMIZED): 100% 298/298 [01:29<00:00,  3.32it/s]\n",
      "Processing complete. Final video saved to: ./vlm_outputs/vlm_finetuned_v3_fast_output_0.3_0.4_15_8.mp4\n",
      "Total persons counted: 37\n"
     ]
    }
   ]
  },
  {
   "cell_type": "code",
   "source": [],
   "metadata": {
    "id": "EHPIg3IzaRaN"
   },
   "execution_count": null,
   "outputs": []
  }
 ]
}
